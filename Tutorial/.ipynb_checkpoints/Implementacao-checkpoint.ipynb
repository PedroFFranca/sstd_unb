{
 "cells": [
  {
   "cell_type": "markdown",
   "id": "d7f3e7c0-3532-4a56-b158-b161571a1dd7",
   "metadata": {},
   "source": [
    "# Implementação de Filtros Digitais\n",
    "\n",
    "Neste tutorial vamos ver a implementação de um filtro digital dado por:\n",
    "<br>\n",
    "$$\n",
    "y\\left[n\\right] + a_1~y\\left[n-1\\right] + a_2~y\\left[n-2\\right] + \\ldots + a_N~y\\left[n-N\\right] = b_0~x\\left[n\\right] + b_1~x\\left[n-1\\right] + b_2~x\\left[n-2\\right] + \\ldots + b_N~x\\left[n-N\\right]\n",
    "$$\n",
    "<br>\n",
    "Sabemos que a função de transferência deste filtro é dada por:\n",
    "\n",
    "$$\n",
    "H\\left(z\\right) = \\frac{Y\\left(z\\right)}{X\\left(z\\right)} = \\frac{b_0 z^N + b_1 z^{N-1} + \\ldots + b_{N-1}z + b_N}{z^N + a_1 z^{N-1} + \\ldots + a_{N-1} z + a_N}\n",
    "$$\n",
    "\n",
    "<br>\n",
    "<br>\n",
    "<br>\n",
    "Todas as implementações estão considerando que o número de coeficientes $a_i$ e $b_i$ são iguais, e que o coeficiente $a_0 = 1$ (ou seja, o filtro está normalizado)."
   ]
  },
  {
   "cell_type": "code",
   "execution_count": 10,
   "id": "78995f77-39d6-42d7-8747-b72d0c3fe7c0",
   "metadata": {},
   "outputs": [],
   "source": [
    "import numpy as np\n",
    "import scipy as sp\n",
    "from matplotlib import pyplot as plt\n",
    "import time"
   ]
  },
  {
   "cell_type": "code",
   "execution_count": 2,
   "id": "ef84304b-3eea-435a-88bb-f2ccae3cd244",
   "metadata": {},
   "outputs": [],
   "source": [
    "sinal = sp.io.loadmat('noisy_ecg_data_2.mat')['noisy_ecg2'].ravel()"
   ]
  },
  {
   "cell_type": "code",
   "execution_count": 3,
   "id": "c3e46f95-39e9-4bdc-9f95-20454b90c9fc",
   "metadata": {},
   "outputs": [],
   "source": [
    "b, a = sp.signal.butter(2, 0.2, 'lowpass')"
   ]
  },
  {
   "cell_type": "markdown",
   "id": "1b6fe171-551e-4e8b-be1f-7d75ac31f164",
   "metadata": {},
   "source": [
    "## Implementação via equação de diferenças\n",
    "\n",
    "A primeira implementação, mais ingênua, consiste apenas em isolar $y\\left[n\\right]$ na equação de diferenças.\n",
    "\n",
    "$$\n",
    "y\\left[n\\right] = - a_1~y\\left[n-1\\right] - a_2~y\\left[n-2\\right] - \\ldots - a_N~y\\left[n-N\\right] + b_0~x\\left[n\\right] + b_1~x\\left[n-1\\right] + b_2~x\\left[n-2\\right] + \\ldots + b_N~x\\left[n-N\\right]\n",
    "$$\n",
    "\n",
    "Ou, de forma mais compacta:\n",
    "\n",
    "$$\n",
    "y\\left[n\\right] = \\sum_{i = 1}^N -a_i~y\\left[n-i\\right] + \\sum_{i=0}^N b_i~x\\left[n-i\\right]\n",
    "$$\n"
   ]
  },
  {
   "cell_type": "code",
   "execution_count": 20,
   "id": "2816ddaf-6e3d-4c22-bdca-8128e9a7302a",
   "metadata": {},
   "outputs": [],
   "source": [
    "def diffEquation(B,A,x):\n",
    "    y = np.zeros(x.size)\n",
    "    \n",
    "    for n in range(x.size):\n",
    "        tempSum = 0\n",
    "        \n",
    "        for i in range(1,A.size):\n",
    "            if n >= i:\n",
    "                tempSum += - A[i] * y[n-i]\n",
    "        \n",
    "        for i in range(B.size):\n",
    "            if n >= i:\n",
    "                tempSum += B[i] * x[n-i]\n",
    "        y[n] = tempSum\n",
    "\n",
    "    return y    "
   ]
  },
  {
   "cell_type": "markdown",
   "id": "7c7aeaa4-2877-4464-840c-412f4f1b29a4",
   "metadata": {},
   "source": [
    "## Forma Direta 1\n",
    "\n",
    "Na implementação na forma direta 1 começamos separanda a função de transferência em duas partes:\n",
    "\n",
    "$$\n",
    "\\begin{align}\n",
    "H\\left(z\\right) &= \\frac{b_0 z^N + b_1 z^{N-1} + \\ldots + b_{N-1}z + b_N}{z^N + a_1 z^{N-1} + \\ldots + a_{N-1} z + a_N} \\\\\n",
    "\t                &= \\dfrac{\\vphantom{\\dfrac{\\tilde{E}}{\\tilde{E}}} b_0 + b_1 \\dfrac{1}{z} + \\ldots + b_{N-1}\\dfrac{1}{z^{N-1}} + b_N \\dfrac{1}{z^N}} { \\vphantom{\\dfrac{\\tilde{E}}{\\tilde{E}}} 1 + a_1 \\dfrac{1}{z} + \\ldots + a_{N-1} \\dfrac{1}{z^{N-1}} + a_N \\dfrac{1}{z^N} } \t\t\t\t\t\t\t\t\t\n",
    "\\end{align}\n",
    "$$\n",
    "\n",
    "E então:\n",
    "\n",
    "$$\n",
    "\\begin{align}\n",
    "\t&H\\left(z\\right) = \\underbrace{\\left( \\vphantom{\\dfrac{\\tilde{E}}{\\tilde{E}}} b_0 + b_1 \\dfrac{1}{z} + \\ldots + b_{N-1}\\dfrac{1}{z^{N-1}} + b_N \\dfrac{1}{z^N} \\right)}_{H_1\\left(z\\right)} \\cdot \\underbrace{ \\left( \\dfrac{1} { \\vphantom{\\dfrac{\\tilde{E}}{\\tilde{E}}} 1 + a_1 \\dfrac{1}{z} + \\ldots + a_{N-1} \\dfrac{1}{z^{N-1}} + a_N \\dfrac{1}{z^N} } \\right)}_{H_2\\left(z\\right)} \n",
    "\\end{align}\n",
    "$$\n",
    "\n",
    "Podemos então implementar a função de transferência como:\n",
    "\n",
    "$$\n",
    "\\begin{align}\n",
    "\tW\\left(z\\right) &= H_1\\left(z\\right) \\cdot X\\left(z\\right) \\\\\n",
    "    Y\\left(z\\right) &= H_2\\left(z\\right) \\cdot W\\left(z\\right) \n",
    "\\end{align}\n",
    "$$\n",
    "\n",
    "$$\n",
    "\\begin{align}\n",
    "\tW\\left(z\\right) &= \\left( \\vphantom{\\dfrac{\\tilde{E}}{\\tilde{E}}} b_0 + b_1 \\dfrac{1}{z} + \\ldots + b_{N-1}\\dfrac{1}{z^{N-1}} + b_N \\dfrac{1}{z^N} \\right) \\cdot X\\left(z\\right) \\\\\n",
    "\t                &= \\left( \\vphantom{\\dfrac{\\tilde{E}}{\\tilde{E}}} 1 + a_1 \\dfrac{1}{z} + \\ldots + a_{N-1} \\dfrac{1}{z^{N-1}} + a_N \\dfrac{1}{z^N} \\right) \\cdot Y \\left(z\\right)\n",
    "\\end{align}\n",
    "$$\n",
    "\n",
    "E finalmente:\n",
    "$$\n",
    "\\begin{align}\n",
    "\tW\\left(z\\right) &= \\left( \\vphantom{\\dfrac{\\tilde{E}}{\\tilde{E}}} b_0 + b_1 \\dfrac{1}{z} + \\ldots + b_{N-1}\\dfrac{1}{z^{N-1}} + b_N \\dfrac{1}{z^N} \\right) \\cdot X\\left(z\\right)  \\\\\n",
    "\tY\\left(z\\right) &= W\\left(z\\right) - \\left( \\vphantom{\\dfrac{\\tilde{E}}{\\tilde{E}}} a_1 \\dfrac{1}{z} + \\ldots + a_{N-1} \\dfrac{1}{z^{N-1}} + a_N \\dfrac{1}{z^N} \\right) \\cdot Y \\left(z\\right) \n",
    "\\end{align}\n",
    "$$\n",
    "\n",
    "<center><img src=\"./figs/forma_direta_1_filter.png\" width=\"500\"></center>"
   ]
  },
  {
   "cell_type": "code",
   "execution_count": 5,
   "id": "37c53956-4fee-4123-a6c0-ab60e03f9832",
   "metadata": {},
   "outputs": [],
   "source": [
    "def FD1(B,A,x):\n",
    "    y = np.zeros(x.size)\n",
    "\n",
    "    zx = np.zeros(B.size)\n",
    "    zy = np.zeros(A.size)\n",
    "\n",
    "    for n in range(x.size):\n",
    "        wn = B[0] * x[n] + zx[0]\n",
    "        y[n] = wn + zy[0]\n",
    "\n",
    "        #Calculo a linha de atraso da entrada (zx)\n",
    "        for i in range(1,B.size):\n",
    "            zx[i-1] = B[i]*x[n] + zx[i]\n",
    "\n",
    "        #Calculo a linha de atraso da saída (zy)\n",
    "        for i in range(1,A.size):\n",
    "            zy[i-1] = -A[i] * y[n] + zy[i]\n",
    "\n",
    "    return y"
   ]
  },
  {
   "cell_type": "markdown",
   "id": "63199834-5e14-440c-bf10-b3630ca0dbb4",
   "metadata": {},
   "source": [
    "Sobre a implementação na <b>Forma Direta 1</b>:\n",
    "\n",
    "<ul>\n",
    "    <li>Essa implementação pode ser pensada como um filtro composto apenas por zeros seguido de um filtro composto apenas por pólos.</li>\n",
    "    <li>Essa implementação tem o dobro de atrasos do que o necessário (2N atrasos).</li>\n",
    "    <li>Em implementação em <b>ponto fixo</b> em complemento de 2, não há a possibilidade de overflow interno se a saída $y\\left[n\\right]$ estiver dentro do intervalo da palavra.</li>\n",
    "    <li>Essa implementação tem problema de quantização dos coeficientes.</li>\t\n",
    "</ul>"
   ]
  },
  {
   "cell_type": "markdown",
   "id": "4a123afe-e166-4a43-8908-406f44719806",
   "metadata": {},
   "source": [
    "## Forma Direta 2\n",
    "\n",
    "A implementação na Forma Direta 2 consiste em inverter a ordem de aplicação dos filtros:\n",
    "\n",
    "$$\n",
    "\\begin{align}\n",
    "\tH\\left(z\\right) = \\underbrace{ \\left( \\dfrac{1} { \\vphantom{\\dfrac{\\tilde{E}}{\\tilde{E}}} 1 + a_1 \\dfrac{1}{z} + \\ldots + a_{N-1} \\dfrac{1}{z^{N-1}} + a_N \\dfrac{1}{z^N} } \\right)}_{H_2\\left(z\\right)} \\cdot \\underbrace{\\left( \\vphantom{\\dfrac{\\tilde{E}}{\\tilde{E}}} b_0 + b_1 \\dfrac{1}{z} + \\ldots + b_{N-1}\\dfrac{1}{z^{N-1}} + b_N \\dfrac{1}{z^N} \\right)}_{H_1\\left(z\\right)}\t\t\t\t\t\t\t\t\t\n",
    "\\end{align}\n",
    "$$\n",
    "\n",
    "Podemos então implementar a função de transferência da seguinte forma: \n",
    "\n",
    "$$\n",
    "\\begin{align}\n",
    "\tV\\left(z\\right) &= H_2\\left(z\\right) \\cdot X\\left(z\\right) \\\\\n",
    "  Y\\left(z\\right) &= H_1\\left(z\\right) \\cdot V\\left(z\\right) \n",
    "\\end{align}\n",
    "$$\n",
    "\n",
    "$$\n",
    "\\begin{align}\n",
    "\tV\\left(z\\right) &= \\left( \\dfrac{1} { \\vphantom{\\dfrac{\\tilde{E}}{\\tilde{E}}} 1 + a_1 \\dfrac{1}{z} + \\ldots + a_{N-1} \\dfrac{1}{z^{N-1}} + a_N \\dfrac{1}{z^N} } \\right) \\cdot X\\left(z\\right)  \\\\\n",
    "\t                &= \\left( \\dfrac{1} {\\vphantom{\\dfrac{\\tilde{E}}{\\tilde{E}}} b_0 + b_1 \\dfrac{1}{z} + \\ldots + b_{N-1}\\dfrac{1}{z^{N-1}} + b_N \\dfrac{1}{z^N} } \\right) \\cdot Y \\left(z\\right) \n",
    "\\end{align}\n",
    "$$\n",
    "\n",
    "E então:\n",
    "\n",
    "$$\n",
    "\\begin{align}\n",
    "\tV\\left(z\\right) &= X\\left(z\\right) - \\left( \\vphantom{\\dfrac{\\tilde{E}}{\\tilde{E}}} a_1 \\dfrac{1}{z} + \\ldots + a_{N-1} \\dfrac{1}{z^{N-1}} + a_N \\dfrac{1}{z^N} \\right) \\cdot V \\left(z\\right) \\nonumber \\\\\n",
    "\tY\\left(z\\right) &= \\left( \\vphantom{\\dfrac{\\tilde{E}}{\\tilde{E}}} b_0 + b_1 \\dfrac{1}{z} + \\ldots + b_{N-1}\\dfrac{1}{z^{N-1}} + b_N \\dfrac{1}{z^N} \\right) \\cdot V\\left(z\\right) \\nonumber\n",
    "\\end{align}\n",
    "$$\n",
    "\n",
    "<center><img src=\"./figs/forma_direta_2_filter.png\" width=\"500\"></center>\n",
    "\n",
    "Ou:\n",
    "\n",
    "<center><img src=\"./figs/forma_direta_2_merged_delays_filter.png\" width=\"500\"></center>\n"
   ]
  },
  {
   "cell_type": "code",
   "execution_count": 6,
   "id": "e79f2cc1-c474-4ace-ad42-5aeb5720f311",
   "metadata": {},
   "outputs": [],
   "source": [
    "def FD2(B,A,x):\n",
    "    y = np.zeros(x.size)\n",
    "\n",
    "    z = np.zeros(B.size)\n",
    "    \n",
    "    for n in range(x.size):\n",
    "        #Calculo o z[0]\n",
    "        z[0] = x[n]\n",
    "        for i in range(1,A.size):\n",
    "            z[0] += -A[i]*z[i]\n",
    "\n",
    "        #Calculo a saída\n",
    "        for i in range(B.size):\n",
    "            y[n] += B[i]*z[i]\n",
    "\n",
    "        #Implemento a linha de atraso\n",
    "        for i in range(B.size-1,0,-1):\n",
    "            z[i] = z[i-1]\n",
    "        \n",
    "    return y"
   ]
  },
  {
   "cell_type": "markdown",
   "id": "38c99682-193f-45a8-9d12-f98e4ee46484",
   "metadata": {},
   "source": [
    "Sobre a implementação na <b>Forma Direta 2</b>:\n",
    "\n",
    "<ul>\n",
    "    <li>Essa implementação pode ser pensada como um filtro composto apenas por pólos seguido de um filtro composto apenas por zeros.</li>\n",
    "    <li>Essa implementação é <b>canônica</b> com respeito ao atraso - ela utiliza apenas N atrasos. Isso ocorre porque os elementos de atraso que implementam os pólos e os zeros são compartilhados.</li>\n",
    "    <li>Porém, esta implementação requer ao menos dois loops for. Em termos de complexidade computacional, ela tem a mesma complexidade da forma direta 1 (apesar de utilizar menos memória).</li>\n",
    "    <li>Em implementação em <b>ponto fixo</b> em complemento de 2, <b>há</b> a possibilidade de overflow interno <i>mesmo que</i> a saída $y\\left[n\\right]$ esteja dentro do intervalo da palavra.</li>\n",
    "    <li>Essa implementação tem problema de quantização dos coeficientes.</li>    \n",
    "</ul>"
   ]
  },
  {
   "cell_type": "markdown",
   "id": "66283e37-7da6-4b8f-90a8-5571e69f17fc",
   "metadata": {},
   "source": [
    "## Forma Transposta\n",
    "\n",
    "A implementação na forma transposta consiste em:\n",
    "\n",
    "<ol>\n",
    "    <li>Inverter a direção de todos os caminhos dos sinais.</li>\n",
    "    <li>Substituir os nós de derivação por somadores, e somadores por nós de derivação.</li>\n",
    "    <li>Inverter a entrada com a saída.</li>\n",
    "</ol>\n",
    "\n",
    "É possível mostrar que essas alterações não alteram a função de transferência. \n",
    "\n",
    "Forma Transposta 1:\n",
    "\n",
    "<center><img src=\"./figs/transposta_forma_direta_1.png\" width=\"500\"></center>\n",
    "\n",
    "Note que a realização na Forma Transposta I não é canônica - ela ainda usa 2N atrasos. \n",
    "\n",
    "Forma Transposta 2:\n",
    "\n",
    "<center><img src=\"./figs/transposta_forma_direta_2.png\" width=\"500\"></center>\n",
    "\n",
    "A forma transposta 2 é mais interessante - note que ela não só é <i>canônica{/i>, como ela pode ser implementada eficientemente com apenas uma linha de atraso! \n",
    "\n",
    "<center><img src=\"./figs/transposta_forma_direta_2_left_right.png\" width=\"500\"></center>\n"
   ]
  },
  {
   "cell_type": "code",
   "execution_count": 7,
   "id": "76ad3cd9-4b35-4934-b9b8-0c4e766e0d43",
   "metadata": {},
   "outputs": [],
   "source": [
    "def FD2Transposed(B,A,x):\n",
    "    y = np.zeros(x.size)\n",
    "\n",
    "    z = np.zeros(B.size)\n",
    "    \n",
    "    for n in range(x.size):\n",
    "        #Calculo a saída.\n",
    "        y[n] = B[0] * x[n] + z[0]\n",
    "\n",
    "        #Calculo a linha de atraso:\n",
    "        for i in range(1,B.size):\n",
    "            z[i-1] = B[i]*x[n] + z[i] - A[i]*y[n]\n",
    "                \n",
    "    return y"
   ]
  },
  {
   "cell_type": "code",
   "execution_count": null,
   "id": "d22ec15b-2e55-420b-a560-5506ee231a0e",
   "metadata": {},
   "outputs": [],
   "source": [
    "#Código adaptado de: https://stackoverflow.com/questions/20917019/how-to-implement-a-filter-like-scipy-signal-lfilter\n",
    "def FD2TransposedInternet(B,A,x):\n",
    "    ntaps = B.size\n",
    "    ntapsm1 = ntaps-1\n",
    "    \n",
    "    y_df2 = np.array([])\n",
    "    g = np.zeros(B.size)\n",
    "\n",
    "    for n in range(x.size):\n",
    "        # The Direct Form II\n",
    "        g = np.append(g, x[n] + g[-ntapsm1:].dot(A[:0:-1]))\n",
    "        y_df2 = np.append(y_df2, g[-ntaps:].dot(B[::-1]))\n",
    "\n",
    "    return y_df2"
   ]
  },
  {
   "cell_type": "markdown",
   "id": "da853274-7c38-4280-89f3-2da69ad5e895",
   "metadata": {},
   "source": [
    "## Testes\n",
    "\n",
    "As cinco opções apresentadas são, de fato, idênticas?"
   ]
  },
  {
   "cell_type": "code",
   "execution_count": 40,
   "id": "8ca472f4-0f39-4ec9-b357-2f92bbd95c15",
   "metadata": {},
   "outputs": [
    {
     "name": "stderr",
     "output_type": "stream",
     "text": [
      "C:\\Users\\eduar\\AppData\\Local\\Temp\\ipykernel_39412\\1678208746.py:9: RuntimeWarning: overflow encountered in scalar multiply\n",
      "  tempSum += - A[i] * y[n-i]\n",
      "C:\\Users\\eduar\\AppData\\Local\\Temp\\ipykernel_39412\\1678208746.py:9: RuntimeWarning: invalid value encountered in scalar add\n",
      "  tempSum += - A[i] * y[n-i]\n",
      "C:\\Users\\eduar\\AppData\\Local\\Temp\\ipykernel_39412\\941149434.py:17: RuntimeWarning: overflow encountered in scalar multiply\n",
      "  zy[i-1] = -A[i] * y[n] + zy[i]\n",
      "C:\\Users\\eduar\\AppData\\Local\\Temp\\ipykernel_39412\\941149434.py:17: RuntimeWarning: invalid value encountered in scalar add\n",
      "  zy[i-1] = -A[i] * y[n] + zy[i]\n",
      "C:\\Users\\eduar\\AppData\\Local\\Temp\\ipykernel_39412\\50492498.py:10: RuntimeWarning: overflow encountered in scalar multiply\n",
      "  z[0] += -A[i]*z[i]\n",
      "C:\\Users\\eduar\\AppData\\Local\\Temp\\ipykernel_39412\\50492498.py:10: RuntimeWarning: invalid value encountered in scalar add\n",
      "  z[0] += -A[i]*z[i]\n",
      "C:\\Users\\eduar\\AppData\\Local\\Temp\\ipykernel_39412\\3255081231.py:12: RuntimeWarning: overflow encountered in scalar multiply\n",
      "  z[i-1] = B[i]*x[n] + z[i] - A[i]*y[n]\n",
      "C:\\Users\\eduar\\AppData\\Local\\Temp\\ipykernel_39412\\3255081231.py:12: RuntimeWarning: invalid value encountered in scalar subtract\n",
      "  z[i-1] = B[i]*x[n] + z[i] - A[i]*y[n]\n"
     ]
    },
    {
     "name": "stdout",
     "output_type": "stream",
     "text": [
      "           MSE da Forma Direta 1: nan .\n",
      "           MSE da Forma Direta 2: nan .\n",
      "MSE da Forma Direta 2 Transposta: nan .\n",
      "MSE da Forma Direta 2 Transposta: nan .\n"
     ]
    },
    {
     "name": "stderr",
     "output_type": "stream",
     "text": [
      "C:\\Users\\eduar\\AppData\\Local\\Temp\\ipykernel_39412\\102093969.py:18: RuntimeWarning: overflow encountered in scalar power\n",
      "  mse5 += (y1[i] - y5[i]) ** 2\n",
      "C:\\Users\\eduar\\AppData\\Local\\Temp\\ipykernel_39412\\102093969.py:16: RuntimeWarning: overflow encountered in scalar power\n",
      "  mse3 += (y1[i] - y3[i]) ** 2\n",
      "C:\\Users\\eduar\\AppData\\Local\\Temp\\ipykernel_39412\\102093969.py:15: RuntimeWarning: overflow encountered in scalar add\n",
      "  mse2 += (y1[i] - y2[i]) ** 2\n",
      "C:\\Users\\eduar\\AppData\\Local\\Temp\\ipykernel_39412\\102093969.py:15: RuntimeWarning: overflow encountered in scalar power\n",
      "  mse2 += (y1[i] - y2[i]) ** 2\n",
      "C:\\Users\\eduar\\AppData\\Local\\Temp\\ipykernel_39412\\102093969.py:17: RuntimeWarning: overflow encountered in scalar power\n",
      "  mse4 += (y1[i] - y4[i]) ** 2\n"
     ]
    }
   ],
   "source": [
    "#Primeiro teste: as quatro opções são, de fato, idênticas?\n",
    "y1 = diffEquation(b,a,sinal)\n",
    "y2 = FD1(b,a,sinal)\n",
    "y3 = FD2(b,a,sinal)\n",
    "y4 = FD2Transposed(b,a,sinal)\n",
    "y5 = FD2TransposedInternet(b,a,sinal)\n",
    "\n",
    "\n",
    "mse2 = 0\n",
    "mse3 = 0\n",
    "mse4 = 0\n",
    "mse5 = 0\n",
    "\n",
    "for i in range(y1.size):\n",
    "    mse2 += (y1[i] - y2[i]) ** 2\n",
    "    mse3 += (y1[i] - y3[i]) ** 2\n",
    "    mse4 += (y1[i] - y4[i]) ** 2\n",
    "    mse5 += (y1[i] - y5[i]) ** 2\n",
    "\n",
    "mse2 /= y1.size\n",
    "mse3 /= y1.size\n",
    "mse4 /= y1.size\n",
    "mse5 /= y1.size\n",
    "\n",
    "print(f'           MSE da Forma Direta 1: {mse2} .')\n",
    "print(f'           MSE da Forma Direta 2: {mse3} .')\n",
    "print(f'MSE da Forma Direta 2 Transposta: {mse4} .')\n",
    "print(f'MSE da Forma Direta 2 Transposta: {mse5} .')"
   ]
  },
  {
   "cell_type": "code",
   "execution_count": 9,
   "id": "af5caf6f-7df1-4a5d-88f4-7bc75f879b88",
   "metadata": {},
   "outputs": [
    {
     "name": "stdout",
     "output_type": "stream",
     "text": [
      "  Amostra    | Diff Equation |      FD1      |      FD2      | FD2 Transposta\n",
      "Amostra    0 | -0.0057337227 | -0.0057337227 | -0.0057337227 | -0.0057337227\n",
      "Amostra    1 | -0.0234170431 | -0.0234170431 | -0.0234170431 | -0.0234170431\n",
      "Amostra    2 | -0.0456485032 | -0.0456485032 | -0.0456485032 | -0.0456485032\n",
      "Amostra    3 | -0.0624022960 | -0.0624022960 | -0.0624022960 | -0.0624022960\n",
      "Amostra    4 | -0.0737400992 | -0.0737400992 | -0.0737400992 | -0.0737400992\n",
      "Amostra 1000 | -0.0168880536 | -0.0168880536 | -0.0168880536 | -0.0168880536\n",
      "Amostra 2000 | +0.1364251166 | +0.1364251166 | +0.1364251166 | +0.1364251166\n",
      "Amostra 3000 | +0.3461825640 | +0.3461825640 | +0.3461825640 | +0.3461825640\n",
      "Amostra 4000 | +0.2338645574 | +0.2338645574 | +0.2338645574 | +0.2338645574\n",
      "Amostra 4999 | +0.0266444388 | +0.0266444388 | +0.0266444388 | +0.0266444388\n"
     ]
    }
   ],
   "source": [
    "amostras = [0, 1, 2, 3, 4, 1000, 2000, 3000, 4000, 4999]\n",
    "\n",
    "txt = \"  Amostra    | Diff Equation |      FD1      |      FD2      | FD2 Transposta\"\n",
    "print(txt)\n",
    "\n",
    "for i in amostras:\n",
    "    txt = \"Amostra {:>4} | {:+.10f} | {:+.10f} | {:+.10f} | {:+.10f}\"\n",
    "    print(txt.format(i,y1[i],y2[i],y3[i],y4[i]))"
   ]
  },
  {
   "cell_type": "markdown",
   "id": "dd9e9809-3e80-486e-9cd4-198aecffb886",
   "metadata": {},
   "source": [
    "## Ok, mas o que que eu ganho com isso?"
   ]
  },
  {
   "cell_type": "code",
   "execution_count": 36,
   "id": "0f67034e-f162-4681-9603-1deacd1953ac",
   "metadata": {},
   "outputs": [],
   "source": []
  },
  {
   "cell_type": "code",
   "execution_count": 39,
   "id": "642eb99c-f248-46e9-b820-4c3d32937235",
   "metadata": {},
   "outputs": [
    {
     "name": "stderr",
     "output_type": "stream",
     "text": [
      "C:\\Users\\eduar\\AppData\\Local\\Temp\\ipykernel_39412\\1678208746.py:9: RuntimeWarning: overflow encountered in scalar multiply\n",
      "  tempSum += - A[i] * y[n-i]\n",
      "C:\\Users\\eduar\\AppData\\Local\\Temp\\ipykernel_39412\\1678208746.py:9: RuntimeWarning: invalid value encountered in scalar add\n",
      "  tempSum += - A[i] * y[n-i]\n",
      "C:\\Users\\eduar\\AppData\\Local\\Temp\\ipykernel_39412\\941149434.py:17: RuntimeWarning: overflow encountered in scalar multiply\n",
      "  zy[i-1] = -A[i] * y[n] + zy[i]\n",
      "C:\\Users\\eduar\\AppData\\Local\\Temp\\ipykernel_39412\\941149434.py:17: RuntimeWarning: invalid value encountered in scalar add\n",
      "  zy[i-1] = -A[i] * y[n] + zy[i]\n",
      "C:\\Users\\eduar\\AppData\\Local\\Temp\\ipykernel_39412\\50492498.py:10: RuntimeWarning: overflow encountered in scalar multiply\n",
      "  z[0] += -A[i]*z[i]\n",
      "C:\\Users\\eduar\\AppData\\Local\\Temp\\ipykernel_39412\\50492498.py:10: RuntimeWarning: invalid value encountered in scalar add\n",
      "  z[0] += -A[i]*z[i]\n",
      "C:\\Users\\eduar\\AppData\\Local\\Temp\\ipykernel_39412\\3255081231.py:12: RuntimeWarning: overflow encountered in scalar multiply\n",
      "  z[i-1] = B[i]*x[n] + z[i] - A[i]*y[n]\n",
      "C:\\Users\\eduar\\AppData\\Local\\Temp\\ipykernel_39412\\3255081231.py:12: RuntimeWarning: invalid value encountered in scalar subtract\n",
      "  z[i-1] = B[i]*x[n] + z[i] - A[i]*y[n]\n"
     ]
    },
    {
     "name": "stdout",
     "output_type": "stream",
     "text": [
      "[[0.19898486 0.21017241 0.26670122 0.15721178 1.12194133]\n",
      " [0.60320067 0.80002975 0.91919708 0.59612036 1.11655641]\n",
      " [1.12993288 1.48377466 1.75094151 1.1641736  1.11829114]\n",
      " [1.65503025 2.20018125 2.55106425 1.71533298 1.10225034]\n",
      " [2.73810577 3.68054271 4.1889956  2.79491186 1.10841441]]\n"
     ]
    }
   ],
   "source": [
    "ordem = np.array([2, 10, 20, 30, 50])\n",
    "nruns = 10\n",
    "\n",
    "#[ordem][type]\n",
    "etime = np.zeros((ordem.size,5))\n",
    "\n",
    "for o in range(ordem.size):\n",
    "    #Cria o filtro\n",
    "    b, a = sp.signal.butter(ordem[o], 0.2, 'lowpass')\n",
    "\n",
    "    #Difference Equation\n",
    "    total_time = 0\n",
    "    for k in range(nruns):\n",
    "\n",
    "        start_time = time.time()\n",
    "        y = diffEquation(b,a,sinal)\n",
    "        end_time = time.time()\n",
    "\n",
    "        total_time += (end_time - start_time)\n",
    "        \n",
    "    etime[o][0] = total_time\n",
    "\n",
    "    #FD1\n",
    "    total_time = 0\n",
    "    for k in range(nruns):\n",
    "\n",
    "        start_time = time.time()\n",
    "        y = FD1(b,a,sinal)\n",
    "        end_time = time.time()\n",
    "\n",
    "        total_time += (end_time - start_time)\n",
    "        \n",
    "    etime[o][1] = total_time\n",
    "\n",
    "    #FD2\n",
    "    total_time = 0\n",
    "    for k in range(nruns):\n",
    "\n",
    "        start_time = time.time()\n",
    "        y = FD2(b,a,sinal)\n",
    "        end_time = time.time()\n",
    "\n",
    "        total_time += (end_time - start_time)\n",
    "        \n",
    "    etime[o][2] = total_time\n",
    "\n",
    "    #FD2 Transposed\n",
    "    total_time = 0\n",
    "    for k in range(nruns):\n",
    "\n",
    "        start_time = time.time()\n",
    "        y = FD2Transposed(b,a,sinal)\n",
    "        end_time = time.time()\n",
    "\n",
    "        total_time += (end_time - start_time)\n",
    "        \n",
    "    etime[o][3] = total_time\n",
    "\n",
    "    #Python\n",
    "    total_time = 0\n",
    "    for k in range(nruns):\n",
    "\n",
    "        start_time = time.time()\n",
    "        y = FD2TransposedInternet(b,a,sinal)\n",
    "        end_time = time.time()\n",
    "\n",
    "        total_time += (end_time - start_time)\n",
    "        \n",
    "    etime[o][4] = total_time\n",
    "    \n",
    "print(etime)\n",
    "\n"
   ]
  },
  {
   "cell_type": "code",
   "execution_count": 17,
   "id": "7c17debb-8133-402c-b58e-8dfc85940d23",
   "metadata": {},
   "outputs": [
    {
     "name": "stdout",
     "output_type": "stream",
     "text": [
      "[[0. 2. 0. 0.]\n",
      " [0. 0. 0. 0.]\n",
      " [0. 0. 0. 0.]\n",
      " [0. 0. 0. 0.]]\n"
     ]
    }
   ],
   "source": [
    "etime = np.zeros((4,4))\n",
    "\n",
    "etime[0][1] = 2\n",
    "\n",
    "print(etime)"
   ]
  },
  {
   "cell_type": "code",
   "execution_count": 31,
   "id": "4e6ded5d-23f7-40ed-b8ad-f8192fcc1792",
   "metadata": {},
   "outputs": [
    {
     "name": "stdout",
     "output_type": "stream",
     "text": [
      "[ 1.        -1.1429805  0.4128016]\n",
      "[ 0.4128016 -1.1429805]\n"
     ]
    }
   ],
   "source": [
    "print(a)\n",
    "print(a[:0:-1])"
   ]
  },
  {
   "cell_type": "code",
   "execution_count": 33,
   "id": "010c213b-f447-4091-afa6-738156d5e74e",
   "metadata": {},
   "outputs": [
    {
     "name": "stdout",
     "output_type": "stream",
     "text": [
      "[0. 0. 0.]\n",
      "[0. 0. 0.]\n"
     ]
    }
   ],
   "source": [
    "g = np.zeros(3)\n",
    "print(g)\n",
    "print(g[-3:])"
   ]
  },
  {
   "cell_type": "code",
   "execution_count": 34,
   "id": "442065cb-f872-4b05-a9e2-c70bb507bf9a",
   "metadata": {},
   "outputs": [],
   "source": [
    "b1,a1 = sp.signal.butter(N=6, Wn=0.5)"
   ]
  },
  {
   "cell_type": "code",
   "execution_count": 35,
   "id": "35d79ddd-bf07-4c0a-853a-dbe07cc93a2b",
   "metadata": {},
   "outputs": [
    {
     "name": "stdout",
     "output_type": "stream",
     "text": [
      "[0.02958822 0.17752934 0.44382335 0.59176447 0.44382335 0.17752934\n",
      " 0.02958822]\n"
     ]
    }
   ],
   "source": [
    "print(b1)"
   ]
  },
  {
   "cell_type": "code",
   "execution_count": null,
   "id": "4792aef0-e7c6-4417-ba7c-e4f03cac8f53",
   "metadata": {},
   "outputs": [],
   "source": []
  }
 ],
 "metadata": {
  "kernelspec": {
   "display_name": "Python 3 (ipykernel)",
   "language": "python",
   "name": "python3"
  },
  "language_info": {
   "codemirror_mode": {
    "name": "ipython",
    "version": 3
   },
   "file_extension": ".py",
   "mimetype": "text/x-python",
   "name": "python",
   "nbconvert_exporter": "python",
   "pygments_lexer": "ipython3",
   "version": "3.12.3"
  }
 },
 "nbformat": 4,
 "nbformat_minor": 5
}
